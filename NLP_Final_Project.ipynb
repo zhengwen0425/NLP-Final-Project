{
  "cells": [
    {
      "cell_type": "markdown",
      "metadata": {
        "id": "view-in-github",
        "colab_type": "text"
      },
      "source": [
        "<a href=\"https://colab.research.google.com/github/zhengwen0425/NLP-Final-Project/blob/main/NLP_Final_Project.ipynb\" target=\"_parent\"><img src=\"https://colab.research.google.com/assets/colab-badge.svg\" alt=\"Open In Colab\"/></a>"
      ]
    },
    {
      "cell_type": "code",
      "execution_count": null,
      "metadata": {
        "colab": {
          "base_uri": "https://localhost:8080/"
        },
        "id": "g3EVroub5KXY",
        "outputId": "bc246351-7ba6-41c7-90e4-bc0720a0571f"
      },
      "outputs": [
        {
          "name": "stdout",
          "output_type": "stream",
          "text": [
            "False\n"
          ]
        }
      ],
      "source": [
        "import torch\n",
        "print(torch.cuda.is_available())"
      ]
    },
    {
      "cell_type": "code",
      "execution_count": null,
      "metadata": {
        "colab": {
          "base_uri": "https://localhost:8080/"
        },
        "id": "z1qC7cy75esu",
        "outputId": "4ee0d68b-0b85-472b-c3a1-892828cf081d"
      },
      "outputs": [
        {
          "output_type": "stream",
          "name": "stdout",
          "text": [
            "Cloning into 'fp-dataset-artifacts'...\n",
            "remote: Enumerating objects: 41, done.\u001b[K\n",
            "remote: Counting objects: 100% (15/15), done.\u001b[K\n",
            "remote: Compressing objects: 100% (8/8), done.\u001b[K\n",
            "remote: Total 41 (delta 9), reused 9 (delta 7), pack-reused 26 (from 1)\u001b[K\n",
            "Receiving objects: 100% (41/41), 15.39 KiB | 2.20 MiB/s, done.\n",
            "Resolving deltas: 100% (14/14), done.\n"
          ]
        }
      ],
      "source": [
        "!git clone https://github.com/gregdurrett/fp-dataset-artifacts.git"
      ]
    },
    {
      "cell_type": "code",
      "execution_count": null,
      "metadata": {
        "colab": {
          "base_uri": "https://localhost:8080/"
        },
        "id": "6MQAyUcK-pJq",
        "outputId": "b8335c96-6b5e-4f5e-980e-46f0a2069966"
      },
      "outputs": [
        {
          "output_type": "stream",
          "name": "stdout",
          "text": [
            "git version 2.34.1\n"
          ]
        }
      ],
      "source": [
        "!git --version"
      ]
    },
    {
      "cell_type": "code",
      "execution_count": null,
      "metadata": {
        "colab": {
          "base_uri": "https://localhost:8080/"
        },
        "id": "WQcCimZo5ign",
        "outputId": "ec650277-16a5-420b-ffdb-d6aee25ed44d"
      },
      "outputs": [
        {
          "output_type": "stream",
          "name": "stdout",
          "text": [
            "Requirement already satisfied: pip in /usr/local/lib/python3.10/dist-packages (24.1.2)\n",
            "Collecting pip\n",
            "  Downloading pip-24.3.1-py3-none-any.whl.metadata (3.7 kB)\n",
            "Downloading pip-24.3.1-py3-none-any.whl (1.8 MB)\n",
            "\u001b[2K   \u001b[90m━━━━━━━━━━━━━━━━━━━━━━━━━━━━━━━━━━━━━━━━\u001b[0m \u001b[32m1.8/1.8 MB\u001b[0m \u001b[31m12.7 MB/s\u001b[0m eta \u001b[36m0:00:00\u001b[0m\n",
            "\u001b[?25hInstalling collected packages: pip\n",
            "  Attempting uninstall: pip\n",
            "    Found existing installation: pip 24.1.2\n",
            "    Uninstalling pip-24.1.2:\n",
            "      Successfully uninstalled pip-24.1.2\n",
            "Successfully installed pip-24.3.1\n"
          ]
        }
      ],
      "source": [
        "!pip install --upgrade pip"
      ]
    },
    {
      "cell_type": "code",
      "execution_count": null,
      "metadata": {
        "colab": {
          "base_uri": "https://localhost:8080/"
        },
        "id": "RgFrKknT_WF8",
        "outputId": "1fbe785b-c638-4c3f-a94b-0c0baf07724d"
      },
      "outputs": [
        {
          "output_type": "stream",
          "name": "stdout",
          "text": [
            "/content/fp-dataset-artifacts\n"
          ]
        }
      ],
      "source": [
        "%cd fp-dataset-artifacts"
      ]
    },
    {
      "cell_type": "code",
      "execution_count": null,
      "metadata": {
        "colab": {
          "base_uri": "https://localhost:8080/"
        },
        "collapsed": true,
        "id": "pHEk29Mz5jbe",
        "outputId": "52572300-5a4a-4c56-9cc9-cdb5d0c59a49"
      },
      "outputs": [
        {
          "output_type": "stream",
          "name": "stdout",
          "text": [
            "Requirement already satisfied: accelerate in /usr/local/lib/python3.10/dist-packages (from -r requirements.txt (line 1)) (1.1.1)\n",
            "Requirement already satisfied: datasets in /usr/local/lib/python3.10/dist-packages (from -r requirements.txt (line 2)) (3.1.0)\n",
            "Requirement already satisfied: torch in /usr/local/lib/python3.10/dist-packages (from -r requirements.txt (line 3)) (2.5.1+cu121)\n",
            "Requirement already satisfied: tqdm in /usr/local/lib/python3.10/dist-packages (from -r requirements.txt (line 4)) (4.66.6)\n",
            "Requirement already satisfied: transformers in /usr/local/lib/python3.10/dist-packages (from -r requirements.txt (line 5)) (4.46.2)\n",
            "Collecting evaluate (from -r requirements.txt (line 6))\n",
            "  Downloading evaluate-0.4.3-py3-none-any.whl.metadata (9.2 kB)\n",
            "Requirement already satisfied: huggingface-hub>=0.21.0 in /usr/local/lib/python3.10/dist-packages (from accelerate->-r requirements.txt (line 1)) (0.26.2)\n",
            "Requirement already satisfied: numpy<3.0.0,>=1.17 in /usr/local/lib/python3.10/dist-packages (from accelerate->-r requirements.txt (line 1)) (1.26.4)\n",
            "Requirement already satisfied: packaging>=20.0 in /usr/local/lib/python3.10/dist-packages (from accelerate->-r requirements.txt (line 1)) (24.2)\n",
            "Requirement already satisfied: psutil in /usr/local/lib/python3.10/dist-packages (from accelerate->-r requirements.txt (line 1)) (5.9.5)\n",
            "Requirement already satisfied: pyyaml in /usr/local/lib/python3.10/dist-packages (from accelerate->-r requirements.txt (line 1)) (6.0.2)\n",
            "Requirement already satisfied: safetensors>=0.4.3 in /usr/local/lib/python3.10/dist-packages (from accelerate->-r requirements.txt (line 1)) (0.4.5)\n",
            "Requirement already satisfied: filelock in /usr/local/lib/python3.10/dist-packages (from datasets->-r requirements.txt (line 2)) (3.16.1)\n",
            "Requirement already satisfied: pyarrow>=15.0.0 in /usr/local/lib/python3.10/dist-packages (from datasets->-r requirements.txt (line 2)) (17.0.0)\n",
            "Requirement already satisfied: dill<0.3.9,>=0.3.0 in /usr/local/lib/python3.10/dist-packages (from datasets->-r requirements.txt (line 2)) (0.3.8)\n",
            "Requirement already satisfied: pandas in /usr/local/lib/python3.10/dist-packages (from datasets->-r requirements.txt (line 2)) (2.2.2)\n",
            "Requirement already satisfied: requests>=2.32.2 in /usr/local/lib/python3.10/dist-packages (from datasets->-r requirements.txt (line 2)) (2.32.3)\n",
            "Requirement already satisfied: xxhash in /usr/local/lib/python3.10/dist-packages (from datasets->-r requirements.txt (line 2)) (3.5.0)\n",
            "Requirement already satisfied: multiprocess<0.70.17 in /usr/local/lib/python3.10/dist-packages (from datasets->-r requirements.txt (line 2)) (0.70.16)\n",
            "Requirement already satisfied: fsspec<=2024.9.0,>=2023.1.0 in /usr/local/lib/python3.10/dist-packages (from fsspec[http]<=2024.9.0,>=2023.1.0->datasets->-r requirements.txt (line 2)) (2024.9.0)\n",
            "Requirement already satisfied: aiohttp in /usr/local/lib/python3.10/dist-packages (from datasets->-r requirements.txt (line 2)) (3.11.1)\n",
            "Requirement already satisfied: typing-extensions>=4.8.0 in /usr/local/lib/python3.10/dist-packages (from torch->-r requirements.txt (line 3)) (4.12.2)\n",
            "Requirement already satisfied: networkx in /usr/local/lib/python3.10/dist-packages (from torch->-r requirements.txt (line 3)) (3.4.2)\n",
            "Requirement already satisfied: jinja2 in /usr/local/lib/python3.10/dist-packages (from torch->-r requirements.txt (line 3)) (3.1.4)\n",
            "Requirement already satisfied: sympy==1.13.1 in /usr/local/lib/python3.10/dist-packages (from torch->-r requirements.txt (line 3)) (1.13.1)\n",
            "Requirement already satisfied: mpmath<1.4,>=1.1.0 in /usr/local/lib/python3.10/dist-packages (from sympy==1.13.1->torch->-r requirements.txt (line 3)) (1.3.0)\n",
            "Requirement already satisfied: regex!=2019.12.17 in /usr/local/lib/python3.10/dist-packages (from transformers->-r requirements.txt (line 5)) (2024.9.11)\n",
            "Requirement already satisfied: tokenizers<0.21,>=0.20 in /usr/local/lib/python3.10/dist-packages (from transformers->-r requirements.txt (line 5)) (0.20.3)\n",
            "Requirement already satisfied: aiohappyeyeballs>=2.3.0 in /usr/local/lib/python3.10/dist-packages (from aiohttp->datasets->-r requirements.txt (line 2)) (2.4.3)\n",
            "Requirement already satisfied: aiosignal>=1.1.2 in /usr/local/lib/python3.10/dist-packages (from aiohttp->datasets->-r requirements.txt (line 2)) (1.3.1)\n",
            "Requirement already satisfied: attrs>=17.3.0 in /usr/local/lib/python3.10/dist-packages (from aiohttp->datasets->-r requirements.txt (line 2)) (24.2.0)\n",
            "Requirement already satisfied: frozenlist>=1.1.1 in /usr/local/lib/python3.10/dist-packages (from aiohttp->datasets->-r requirements.txt (line 2)) (1.5.0)\n",
            "Requirement already satisfied: multidict<7.0,>=4.5 in /usr/local/lib/python3.10/dist-packages (from aiohttp->datasets->-r requirements.txt (line 2)) (6.1.0)\n",
            "Requirement already satisfied: propcache>=0.2.0 in /usr/local/lib/python3.10/dist-packages (from aiohttp->datasets->-r requirements.txt (line 2)) (0.2.0)\n",
            "Requirement already satisfied: yarl<2.0,>=1.17.0 in /usr/local/lib/python3.10/dist-packages (from aiohttp->datasets->-r requirements.txt (line 2)) (1.17.1)\n",
            "Requirement already satisfied: async-timeout<6.0,>=4.0 in /usr/local/lib/python3.10/dist-packages (from aiohttp->datasets->-r requirements.txt (line 2)) (4.0.3)\n",
            "Requirement already satisfied: charset-normalizer<4,>=2 in /usr/local/lib/python3.10/dist-packages (from requests>=2.32.2->datasets->-r requirements.txt (line 2)) (3.4.0)\n",
            "Requirement already satisfied: idna<4,>=2.5 in /usr/local/lib/python3.10/dist-packages (from requests>=2.32.2->datasets->-r requirements.txt (line 2)) (3.10)\n",
            "Requirement already satisfied: urllib3<3,>=1.21.1 in /usr/local/lib/python3.10/dist-packages (from requests>=2.32.2->datasets->-r requirements.txt (line 2)) (2.2.3)\n",
            "Requirement already satisfied: certifi>=2017.4.17 in /usr/local/lib/python3.10/dist-packages (from requests>=2.32.2->datasets->-r requirements.txt (line 2)) (2024.8.30)\n",
            "Requirement already satisfied: MarkupSafe>=2.0 in /usr/local/lib/python3.10/dist-packages (from jinja2->torch->-r requirements.txt (line 3)) (3.0.2)\n",
            "Requirement already satisfied: python-dateutil>=2.8.2 in /usr/local/lib/python3.10/dist-packages (from pandas->datasets->-r requirements.txt (line 2)) (2.8.2)\n",
            "Requirement already satisfied: pytz>=2020.1 in /usr/local/lib/python3.10/dist-packages (from pandas->datasets->-r requirements.txt (line 2)) (2024.2)\n",
            "Requirement already satisfied: tzdata>=2022.7 in /usr/local/lib/python3.10/dist-packages (from pandas->datasets->-r requirements.txt (line 2)) (2024.2)\n",
            "Requirement already satisfied: six>=1.5 in /usr/local/lib/python3.10/dist-packages (from python-dateutil>=2.8.2->pandas->datasets->-r requirements.txt (line 2)) (1.16.0)\n",
            "Downloading evaluate-0.4.3-py3-none-any.whl (84 kB)\n",
            "\u001b[2K   \u001b[90m━━━━━━━━━━━━━━━━━━━━━━━━━━━━━━━━━━━━━━━━\u001b[0m \u001b[32m84.0/84.0 kB\u001b[0m \u001b[31m1.2 MB/s\u001b[0m eta \u001b[36m0:00:00\u001b[0m\n",
            "\u001b[?25hInstalling collected packages: evaluate\n",
            "Successfully installed evaluate-0.4.3\n"
          ]
        }
      ],
      "source": [
        "!pip install -r requirements.txt"
      ]
    },
    {
      "cell_type": "code",
      "execution_count": null,
      "metadata": {
        "colab": {
          "base_uri": "https://localhost:8080/"
        },
        "collapsed": true,
        "id": "e7I8lITICDEY",
        "outputId": "cfe06086-2ca3-4313-c33b-fed4e5e3141a"
      },
      "outputs": [
        {
          "output_type": "stream",
          "name": "stdout",
          "text": [
            "Collecting datasets\n",
            "  Downloading datasets-3.1.0-py3-none-any.whl.metadata (20 kB)\n",
            "Requirement already satisfied: filelock in /usr/local/lib/python3.10/dist-packages (from datasets) (3.16.1)\n",
            "Requirement already satisfied: numpy>=1.17 in /usr/local/lib/python3.10/dist-packages (from datasets) (1.26.4)\n",
            "Requirement already satisfied: pyarrow>=15.0.0 in /usr/local/lib/python3.10/dist-packages (from datasets) (17.0.0)\n",
            "Collecting dill<0.3.9,>=0.3.0 (from datasets)\n",
            "  Downloading dill-0.3.8-py3-none-any.whl.metadata (10 kB)\n",
            "Requirement already satisfied: pandas in /usr/local/lib/python3.10/dist-packages (from datasets) (2.2.2)\n",
            "Requirement already satisfied: requests>=2.32.2 in /usr/local/lib/python3.10/dist-packages (from datasets) (2.32.3)\n",
            "Requirement already satisfied: tqdm>=4.66.3 in /usr/local/lib/python3.10/dist-packages (from datasets) (4.66.6)\n",
            "Collecting xxhash (from datasets)\n",
            "  Downloading xxhash-3.5.0-cp310-cp310-manylinux_2_17_x86_64.manylinux2014_x86_64.whl.metadata (12 kB)\n",
            "Collecting multiprocess<0.70.17 (from datasets)\n",
            "  Downloading multiprocess-0.70.16-py310-none-any.whl.metadata (7.2 kB)\n",
            "Collecting fsspec<=2024.9.0,>=2023.1.0 (from fsspec[http]<=2024.9.0,>=2023.1.0->datasets)\n",
            "  Downloading fsspec-2024.9.0-py3-none-any.whl.metadata (11 kB)\n",
            "Requirement already satisfied: aiohttp in /usr/local/lib/python3.10/dist-packages (from datasets) (3.11.1)\n",
            "Requirement already satisfied: huggingface-hub>=0.23.0 in /usr/local/lib/python3.10/dist-packages (from datasets) (0.26.2)\n",
            "Requirement already satisfied: packaging in /usr/local/lib/python3.10/dist-packages (from datasets) (24.2)\n",
            "Requirement already satisfied: pyyaml>=5.1 in /usr/local/lib/python3.10/dist-packages (from datasets) (6.0.2)\n",
            "Requirement already satisfied: aiohappyeyeballs>=2.3.0 in /usr/local/lib/python3.10/dist-packages (from aiohttp->datasets) (2.4.3)\n",
            "Requirement already satisfied: aiosignal>=1.1.2 in /usr/local/lib/python3.10/dist-packages (from aiohttp->datasets) (1.3.1)\n",
            "Requirement already satisfied: attrs>=17.3.0 in /usr/local/lib/python3.10/dist-packages (from aiohttp->datasets) (24.2.0)\n",
            "Requirement already satisfied: frozenlist>=1.1.1 in /usr/local/lib/python3.10/dist-packages (from aiohttp->datasets) (1.5.0)\n",
            "Requirement already satisfied: multidict<7.0,>=4.5 in /usr/local/lib/python3.10/dist-packages (from aiohttp->datasets) (6.1.0)\n",
            "Requirement already satisfied: propcache>=0.2.0 in /usr/local/lib/python3.10/dist-packages (from aiohttp->datasets) (0.2.0)\n",
            "Requirement already satisfied: yarl<2.0,>=1.17.0 in /usr/local/lib/python3.10/dist-packages (from aiohttp->datasets) (1.17.1)\n",
            "Requirement already satisfied: async-timeout<6.0,>=4.0 in /usr/local/lib/python3.10/dist-packages (from aiohttp->datasets) (4.0.3)\n",
            "Requirement already satisfied: typing-extensions>=3.7.4.3 in /usr/local/lib/python3.10/dist-packages (from huggingface-hub>=0.23.0->datasets) (4.12.2)\n",
            "Requirement already satisfied: charset-normalizer<4,>=2 in /usr/local/lib/python3.10/dist-packages (from requests>=2.32.2->datasets) (3.4.0)\n",
            "Requirement already satisfied: idna<4,>=2.5 in /usr/local/lib/python3.10/dist-packages (from requests>=2.32.2->datasets) (3.10)\n",
            "Requirement already satisfied: urllib3<3,>=1.21.1 in /usr/local/lib/python3.10/dist-packages (from requests>=2.32.2->datasets) (2.2.3)\n",
            "Requirement already satisfied: certifi>=2017.4.17 in /usr/local/lib/python3.10/dist-packages (from requests>=2.32.2->datasets) (2024.8.30)\n",
            "Requirement already satisfied: python-dateutil>=2.8.2 in /usr/local/lib/python3.10/dist-packages (from pandas->datasets) (2.8.2)\n",
            "Requirement already satisfied: pytz>=2020.1 in /usr/local/lib/python3.10/dist-packages (from pandas->datasets) (2024.2)\n",
            "Requirement already satisfied: tzdata>=2022.7 in /usr/local/lib/python3.10/dist-packages (from pandas->datasets) (2024.2)\n",
            "Requirement already satisfied: six>=1.5 in /usr/local/lib/python3.10/dist-packages (from python-dateutil>=2.8.2->pandas->datasets) (1.16.0)\n",
            "Downloading datasets-3.1.0-py3-none-any.whl (480 kB)\n",
            "\u001b[2K   \u001b[90m━━━━━━━━━━━━━━━━━━━━━━━━━━━━━━━━━━━━━━━━\u001b[0m \u001b[32m480.6/480.6 kB\u001b[0m \u001b[31m7.6 MB/s\u001b[0m eta \u001b[36m0:00:00\u001b[0m\n",
            "\u001b[?25hDownloading dill-0.3.8-py3-none-any.whl (116 kB)\n",
            "\u001b[2K   \u001b[90m━━━━━━━━━━━━━━━━━━━━━━━━━━━━━━━━━━━━━━━━\u001b[0m \u001b[32m116.3/116.3 kB\u001b[0m \u001b[31m12.6 MB/s\u001b[0m eta \u001b[36m0:00:00\u001b[0m\n",
            "\u001b[?25hDownloading fsspec-2024.9.0-py3-none-any.whl (179 kB)\n",
            "\u001b[2K   \u001b[90m━━━━━━━━━━━━━━━━━━━━━━━━━━━━━━━━━━━━━━━━\u001b[0m \u001b[32m179.3/179.3 kB\u001b[0m \u001b[31m19.2 MB/s\u001b[0m eta \u001b[36m0:00:00\u001b[0m\n",
            "\u001b[?25hDownloading multiprocess-0.70.16-py310-none-any.whl (134 kB)\n",
            "\u001b[2K   \u001b[90m━━━━━━━━━━━━━━━━━━━━━━━━━━━━━━━━━━━━━━━━\u001b[0m \u001b[32m134.8/134.8 kB\u001b[0m \u001b[31m13.8 MB/s\u001b[0m eta \u001b[36m0:00:00\u001b[0m\n",
            "\u001b[?25hDownloading xxhash-3.5.0-cp310-cp310-manylinux_2_17_x86_64.manylinux2014_x86_64.whl (194 kB)\n",
            "\u001b[2K   \u001b[90m━━━━━━━━━━━━━━━━━━━━━━━━━━━━━━━━━━━━━━━━\u001b[0m \u001b[32m194.1/194.1 kB\u001b[0m \u001b[31m19.6 MB/s\u001b[0m eta \u001b[36m0:00:00\u001b[0m\n",
            "\u001b[?25hInstalling collected packages: xxhash, fsspec, dill, multiprocess, datasets\n",
            "  Attempting uninstall: fsspec\n",
            "    Found existing installation: fsspec 2024.10.0\n",
            "    Uninstalling fsspec-2024.10.0:\n",
            "      Successfully uninstalled fsspec-2024.10.0\n",
            "\u001b[31mERROR: pip's dependency resolver does not currently take into account all the packages that are installed. This behaviour is the source of the following dependency conflicts.\n",
            "gcsfs 2024.10.0 requires fsspec==2024.10.0, but you have fsspec 2024.9.0 which is incompatible.\u001b[0m\u001b[31m\n",
            "\u001b[0mSuccessfully installed datasets-3.1.0 dill-0.3.8 fsspec-2024.9.0 multiprocess-0.70.16 xxhash-3.5.0\n"
          ]
        }
      ],
      "source": [
        "!pip install datasets"
      ]
    },
    {
      "cell_type": "code",
      "execution_count": null,
      "metadata": {
        "colab": {
          "base_uri": "https://localhost:8080/"
        },
        "id": "h8ItQMoECMsO",
        "outputId": "7d7b17bf-30c3-4e61-d4b5-1a6bc93ec919"
      },
      "outputs": [
        {
          "output_type": "stream",
          "name": "stdout",
          "text": [
            "3.1.0\n"
          ]
        }
      ],
      "source": [
        "import datasets\n",
        "print(datasets.__version__)"
      ]
    },
    {
      "cell_type": "code",
      "execution_count": null,
      "metadata": {
        "colab": {
          "base_uri": "https://localhost:8080/"
        },
        "id": "R7JkM7pF1Nxw",
        "outputId": "c91932d7-6f18-48a9-b4df-d15dd57171b4"
      },
      "outputs": [
        {
          "output_type": "stream",
          "name": "stdout",
          "text": [
            "2024-11-19 03:35:00.545056: I tensorflow/core/util/port.cc:153] oneDNN custom operations are on. You may see slightly different numerical results due to floating-point round-off errors from different computation orders. To turn them off, set the environment variable `TF_ENABLE_ONEDNN_OPTS=0`.\n",
            "2024-11-19 03:35:00.561465: E external/local_xla/xla/stream_executor/cuda/cuda_fft.cc:485] Unable to register cuFFT factory: Attempting to register factory for plugin cuFFT when one has already been registered\n",
            "2024-11-19 03:35:00.582664: E external/local_xla/xla/stream_executor/cuda/cuda_dnn.cc:8454] Unable to register cuDNN factory: Attempting to register factory for plugin cuDNN when one has already been registered\n",
            "2024-11-19 03:35:00.589147: E external/local_xla/xla/stream_executor/cuda/cuda_blas.cc:1452] Unable to register cuBLAS factory: Attempting to register factory for plugin cuBLAS when one has already been registered\n",
            "2024-11-19 03:35:00.604216: I tensorflow/core/platform/cpu_feature_guard.cc:210] This TensorFlow binary is optimized to use available CPU instructions in performance-critical operations.\n",
            "To enable the following instructions: AVX2 AVX512F AVX512_VNNI FMA, in other operations, rebuild TensorFlow with the appropriate compiler flags.\n",
            "2024-11-19 03:35:01.839690: W tensorflow/compiler/tf2tensorrt/utils/py_utils.cc:38] TF-TRT Warning: Could not find TensorRT\n",
            "README.md: 100% 16.0k/16.0k [00:00<00:00, 74.3MB/s]\n",
            "test-00000-of-00001.parquet: 100% 412k/412k [00:00<00:00, 7.18MB/s]\n",
            "validation-00000-of-00001.parquet: 100% 413k/413k [00:00<00:00, 17.7MB/s]\n",
            "train-00000-of-00001.parquet: 100% 19.6M/19.6M [00:00<00:00, 30.3MB/s]\n",
            "Generating test split: 100% 10000/10000 [00:00<00:00, 245106.06 examples/s]\n",
            "Generating validation split: 100% 10000/10000 [00:00<00:00, 1051731.19 examples/s]\n",
            "Generating train split: 100% 550152/550152 [00:00<00:00, 1597572.34 examples/s]\n",
            "config.json: 100% 665/665 [00:00<00:00, 5.32MB/s]\n",
            "pytorch_model.bin: 100% 54.2M/54.2M [00:00<00:00, 193MB/s]\n",
            "Some weights of ElectraForSequenceClassification were not initialized from the model checkpoint at google/electra-small-discriminator and are newly initialized: ['classifier.dense.bias', 'classifier.dense.weight', 'classifier.out_proj.bias', 'classifier.out_proj.weight']\n",
            "You should probably TRAIN this model on a down-stream task to be able to use it for predictions and inference.\n",
            "tokenizer_config.json: 100% 48.0/48.0 [00:00<00:00, 468kB/s]\n",
            "vocab.txt: 100% 232k/232k [00:00<00:00, 3.26MB/s]\n",
            "tokenizer.json: 100% 466k/466k [00:00<00:00, 7.09MB/s]\n",
            "Preprocessing data... (this takes a little bit, should only happen once per dataset)\n",
            "Filter: 100% 10000/10000 [00:00<00:00, 168999.09 examples/s]\n",
            "Filter: 100% 10000/10000 [00:00<00:00, 224407.14 examples/s]\n",
            "Filter: 100% 550152/550152 [00:02<00:00, 239953.61 examples/s]\n",
            "Map (num_proc=2): 100% 549367/549367 [00:51<00:00, 10616.12 examples/s]\n",
            "/content/fp-dataset-artifacts/run.py:159: FutureWarning: `tokenizer` is deprecated and will be removed in version 5.0.0 for `Trainer.__init__`. Use `processing_class` instead.\n",
            "  trainer = trainer_class(\n",
            "\u001b[34m\u001b[1mwandb\u001b[0m: \u001b[33mWARNING\u001b[0m The `run_name` is currently set to the same value as `TrainingArguments.output_dir`. If this was not intended, please specify a different run name by setting the `TrainingArguments.run_name` parameter.\n",
            "\u001b[34m\u001b[1mwandb\u001b[0m: Using wandb-core as the SDK backend.  Please refer to https://wandb.me/wandb-core for more information.\n",
            "\u001b[34m\u001b[1mwandb\u001b[0m: (1) Create a W&B account\n",
            "\u001b[34m\u001b[1mwandb\u001b[0m: (2) Use an existing W&B account\n",
            "\u001b[34m\u001b[1mwandb\u001b[0m: (3) Don't visualize my results\n",
            "\u001b[34m\u001b[1mwandb\u001b[0m: Enter your choice: 3\n",
            "\u001b[34m\u001b[1mwandb\u001b[0m: You chose \"Don't visualize my results\"\n",
            "\u001b[34m\u001b[1mwandb\u001b[0m: Tracking run with wandb version 0.18.7\n",
            "\u001b[34m\u001b[1mwandb\u001b[0m: W&B syncing is set to \u001b[1m`offline`\u001b[0m in this directory.  \n",
            "\u001b[34m\u001b[1mwandb\u001b[0m: Run \u001b[1m`wandb online`\u001b[0m or set \u001b[1mWANDB_MODE=online\u001b[0m to enable cloud syncing.\n",
            "{'loss': 0.8446, 'grad_norm': 4.231049060821533, 'learning_rate': 5e-05, 'epoch': 0.09}\n",
            "{'loss': 0.5445, 'grad_norm': 4.628446578979492, 'learning_rate': 4.8500209970604116e-05, 'epoch': 0.17}\n",
            "{'loss': 0.4851, 'grad_norm': 5.126543045043945, 'learning_rate': 4.7000419941208235e-05, 'epoch': 0.26}\n",
            "{'loss': 0.4633, 'grad_norm': 3.9151687622070312, 'learning_rate': 4.550062991181235e-05, 'epoch': 0.35}\n",
            "{'loss': 0.4459, 'grad_norm': 2.58457350730896, 'learning_rate': 4.400083988241646e-05, 'epoch': 0.44}\n",
            "{'loss': 0.4285, 'grad_norm': 4.057143688201904, 'learning_rate': 4.250104985302058e-05, 'epoch': 0.52}\n",
            "{'loss': 0.4288, 'grad_norm': 2.8456506729125977, 'learning_rate': 4.1001259823624695e-05, 'epoch': 0.61}\n",
            "{'loss': 0.4155, 'grad_norm': 3.7558765411376953, 'learning_rate': 3.9501469794228815e-05, 'epoch': 0.7}\n",
            "{'loss': 0.4095, 'grad_norm': 3.510340452194214, 'learning_rate': 3.800167976483293e-05, 'epoch': 0.79}\n",
            "{'loss': 0.4025, 'grad_norm': 3.372183084487915, 'learning_rate': 3.650188973543704e-05, 'epoch': 0.87}\n",
            "{'loss': 0.3983, 'grad_norm': 2.9283607006073, 'learning_rate': 3.500209970604116e-05, 'epoch': 0.96}\n",
            "{'loss': 0.3742, 'grad_norm': 4.111976146697998, 'learning_rate': 3.3502309676645274e-05, 'epoch': 1.05}\n",
            "{'loss': 0.3576, 'grad_norm': 3.3220925331115723, 'learning_rate': 3.200251964724939e-05, 'epoch': 1.14}\n",
            "{'loss': 0.365, 'grad_norm': 2.725003480911255, 'learning_rate': 3.0502729617853504e-05, 'epoch': 1.22}\n",
            "{'loss': 0.3532, 'grad_norm': 4.486454963684082, 'learning_rate': 2.9002939588457617e-05, 'epoch': 1.31}\n",
            "{'loss': 0.3527, 'grad_norm': 2.4937894344329834, 'learning_rate': 2.750314955906173e-05, 'epoch': 1.4}\n",
            "{'loss': 0.3426, 'grad_norm': 4.581707954406738, 'learning_rate': 2.600335952966585e-05, 'epoch': 1.49}\n",
            "{'loss': 0.3504, 'grad_norm': 3.3501150608062744, 'learning_rate': 2.4503569500269963e-05, 'epoch': 1.57}\n",
            "{'loss': 0.349, 'grad_norm': 3.208371162414551, 'learning_rate': 2.300377947087408e-05, 'epoch': 1.66}\n",
            "{'loss': 0.3473, 'grad_norm': 4.118299961090088, 'learning_rate': 2.1503989441478196e-05, 'epoch': 1.75}\n",
            "{'loss': 0.3437, 'grad_norm': 3.516392946243286, 'learning_rate': 2.000419941208231e-05, 'epoch': 1.83}\n",
            "{'loss': 0.34, 'grad_norm': 3.581409215927124, 'learning_rate': 1.8504409382686426e-05, 'epoch': 1.92}\n",
            "{'loss': 0.3325, 'grad_norm': 3.643674373626709, 'learning_rate': 1.700461935329054e-05, 'epoch': 2.01}\n",
            "{'loss': 0.3054, 'grad_norm': 2.585745096206665, 'learning_rate': 1.5504829323894656e-05, 'epoch': 2.1}\n",
            "{'loss': 0.3115, 'grad_norm': 4.8690290451049805, 'learning_rate': 1.400503929449877e-05, 'epoch': 2.18}\n",
            "{'loss': 0.3095, 'grad_norm': 3.813084840774536, 'learning_rate': 1.2505249265102887e-05, 'epoch': 2.27}\n",
            "{'loss': 0.3086, 'grad_norm': 3.9702816009521484, 'learning_rate': 1.1005459235707002e-05, 'epoch': 2.36}\n",
            "{'loss': 0.3093, 'grad_norm': 2.926959276199341, 'learning_rate': 9.505669206311117e-06, 'epoch': 2.45}\n",
            "{'loss': 0.304, 'grad_norm': 3.0783801078796387, 'learning_rate': 8.005879176915232e-06, 'epoch': 2.53}\n",
            "{'loss': 0.3071, 'grad_norm': 2.5678160190582275, 'learning_rate': 6.506089147519348e-06, 'epoch': 2.62}\n",
            "{'loss': 0.3048, 'grad_norm': 4.649280548095703, 'learning_rate': 5.006299118123463e-06, 'epoch': 2.71}\n",
            "{'loss': 0.3003, 'grad_norm': 2.9062135219573975, 'learning_rate': 3.506509088727578e-06, 'epoch': 2.8}\n",
            "{'loss': 0.3066, 'grad_norm': 4.51254940032959, 'learning_rate': 2.006719059331694e-06, 'epoch': 2.88}\n",
            "{'loss': 0.3055, 'grad_norm': 3.5142416954040527, 'learning_rate': 5.06929029935809e-07, 'epoch': 2.97}\n",
            "{'train_runtime': 2047.5427, 'train_samples_per_second': 804.917, 'train_steps_per_second': 8.385, 'train_loss': 0.37717539527169186, 'epoch': 3.0}\n",
            "100% 17169/17169 [34:00<00:00,  8.42it/s]\n",
            "\u001b[1;34mwandb\u001b[0m:\n",
            "\u001b[1;34mwandb\u001b[0m: You can sync this run to the cloud by running:\n",
            "\u001b[1;34mwandb\u001b[0m: \u001b[1mwandb sync /content/fp-dataset-artifacts/wandb/offline-run-20241119_033615-pz6zizip\u001b[0m\n",
            "\u001b[1;34mwandb\u001b[0m: Find logs at: \u001b[1;35mwandb/offline-run-20241119_033615-pz6zizip/logs\u001b[0m\n"
          ]
        }
      ],
      "source": [
        "!python run.py --do_train --task nli --dataset snli --output_dir ./trained_model/ --per_device_train_batch_size 96 --num_train_epochs 3 --max_length 128  --warmup_steps 500 --save_steps 10000\n"
      ]
    },
    {
      "cell_type": "code",
      "source": [
        "!python3 run.py --do_eval --task nli --dataset snli --model ./trained_model/ --output_dir ./eval_output/"
      ],
      "metadata": {
        "colab": {
          "base_uri": "https://localhost:8080/"
        },
        "id": "RWvvgD3XpBPi",
        "outputId": "bf1d45a8-2485-497e-bb80-6d93ab599ca9"
      },
      "execution_count": null,
      "outputs": [
        {
          "output_type": "stream",
          "name": "stdout",
          "text": [
            "2024-11-19 04:18:15.272420: I tensorflow/core/util/port.cc:153] oneDNN custom operations are on. You may see slightly different numerical results due to floating-point round-off errors from different computation orders. To turn them off, set the environment variable `TF_ENABLE_ONEDNN_OPTS=0`.\n",
            "2024-11-19 04:18:15.289714: E external/local_xla/xla/stream_executor/cuda/cuda_fft.cc:485] Unable to register cuFFT factory: Attempting to register factory for plugin cuFFT when one has already been registered\n",
            "2024-11-19 04:18:15.310953: E external/local_xla/xla/stream_executor/cuda/cuda_dnn.cc:8454] Unable to register cuDNN factory: Attempting to register factory for plugin cuDNN when one has already been registered\n",
            "2024-11-19 04:18:15.317375: E external/local_xla/xla/stream_executor/cuda/cuda_blas.cc:1452] Unable to register cuBLAS factory: Attempting to register factory for plugin cuBLAS when one has already been registered\n",
            "2024-11-19 04:18:15.332676: I tensorflow/core/platform/cpu_feature_guard.cc:210] This TensorFlow binary is optimized to use available CPU instructions in performance-critical operations.\n",
            "To enable the following instructions: AVX2 AVX512F AVX512_VNNI FMA, in other operations, rebuild TensorFlow with the appropriate compiler flags.\n",
            "2024-11-19 04:18:16.382715: W tensorflow/compiler/tf2tensorrt/utils/py_utils.cc:38] TF-TRT Warning: Could not find TensorRT\n",
            "Preprocessing data... (this takes a little bit, should only happen once per dataset)\n",
            "Map (num_proc=2): 100% 9842/9842 [00:01<00:00, 9346.83 examples/s] \n",
            "/content/fp-dataset-artifacts/run.py:159: FutureWarning: `tokenizer` is deprecated and will be removed in version 5.0.0 for `Trainer.__init__`. Use `processing_class` instead.\n",
            "  trainer = trainer_class(\n",
            "100% 1226/1231 [00:15<00:00, 77.23it/s]\u001b[34m\u001b[1mwandb\u001b[0m: \u001b[33mWARNING\u001b[0m The `run_name` is currently set to the same value as `TrainingArguments.output_dir`. If this was not intended, please specify a different run name by setting the `TrainingArguments.run_name` parameter.\n",
            "\u001b[34m\u001b[1mwandb\u001b[0m: Using wandb-core as the SDK backend.  Please refer to https://wandb.me/wandb-core for more information.\n",
            "\u001b[34m\u001b[1mwandb\u001b[0m: (1) Create a W&B account\n",
            "\u001b[34m\u001b[1mwandb\u001b[0m: (2) Use an existing W&B account\n",
            "\u001b[34m\u001b[1mwandb\u001b[0m: (3) Don't visualize my results\n",
            "100% 1231/1231 [00:26<00:00, 77.23it/s]3\n",
            "\u001b[34m\u001b[1mwandb\u001b[0m: You chose \"Don't visualize my results\"\n",
            "\u001b[34m\u001b[1mwandb\u001b[0m: Tracking run with wandb version 0.18.7\n",
            "\u001b[34m\u001b[1mwandb\u001b[0m: W&B syncing is set to \u001b[1m`offline`\u001b[0m in this directory.  \n",
            "\u001b[34m\u001b[1mwandb\u001b[0m: Run \u001b[1m`wandb online`\u001b[0m or set \u001b[1mWANDB_MODE=online\u001b[0m to enable cloud syncing.\n",
            "100% 1231/1231 [00:27<00:00, 44.93it/s]\n",
            "Evaluation results:\n",
            "{'eval_loss': 0.29635319113731384, 'eval_model_preparation_time': 0.0034, 'eval_accuracy': 0.8949400782585144, 'eval_runtime': 16.5807, 'eval_samples_per_second': 593.58, 'eval_steps_per_second': 74.243}\n",
            "\u001b[1;34mwandb\u001b[0m:\n",
            "\u001b[1;34mwandb\u001b[0m: You can sync this run to the cloud by running:\n",
            "\u001b[1;34mwandb\u001b[0m: \u001b[1mwandb sync /content/fp-dataset-artifacts/wandb/offline-run-20241119_041850-5zo2iwns\u001b[0m\n",
            "\u001b[1;34mwandb\u001b[0m: Find logs at: \u001b[1;35mwandb/offline-run-20241119_041850-5zo2iwns/logs\u001b[0m\n"
          ]
        }
      ]
    },
    {
      "cell_type": "code",
      "source": [
        "#Analyze prediction\n",
        "import json\n",
        "\n",
        "with open('./eval_output/eval_predictions.jsonl', 'r') as f:\n",
        "    predictions = [json.loads(line) for line in f]\n",
        "\n",
        "for pred in predictions[:5]:  # Print the first 5 predictions\n",
        "    print(pred)"
      ],
      "metadata": {
        "colab": {
          "base_uri": "https://localhost:8080/"
        },
        "id": "v84y9vOerEKt",
        "outputId": "478bb7a9-b415-4fea-d2ab-9961bb6c29ce"
      },
      "execution_count": null,
      "outputs": [
        {
          "output_type": "stream",
          "name": "stdout",
          "text": [
            "{'premise': 'Two women are embracing while holding to go packages.', 'hypothesis': 'The sisters are hugging goodbye while holding to go packages after just eating lunch.', 'label': 1, 'predicted_scores': [-2.091831684112549, 3.822871208190918, -2.3352267742156982], 'predicted_label': 1}\n",
            "{'premise': 'Two women are embracing while holding to go packages.', 'hypothesis': 'Two woman are holding packages.', 'label': 0, 'predicted_scores': [2.5363059043884277, -1.0886536836624146, -2.1622042655944824], 'predicted_label': 0}\n",
            "{'premise': 'Two women are embracing while holding to go packages.', 'hypothesis': 'The men are fighting outside a deli.', 'label': 2, 'predicted_scores': [-3.5152721405029297, -2.279235363006592, 5.005756378173828], 'predicted_label': 2}\n",
            "{'premise': 'Two young children in blue jerseys, one with the number 9 and one with the number 2 are standing on wooden steps in a bathroom and washing their hands in a sink.', 'hypothesis': 'Two kids in numbered jerseys wash their hands.', 'label': 0, 'predicted_scores': [2.8922278881073, -0.6514185070991516, -3.024202823638916], 'predicted_label': 0}\n",
            "{'premise': 'Two young children in blue jerseys, one with the number 9 and one with the number 2 are standing on wooden steps in a bathroom and washing their hands in a sink.', 'hypothesis': 'Two kids at a ballgame wash their hands.', 'label': 1, 'predicted_scores': [-3.7285513877868652, 1.8038171529769897, 1.7182351350784302], 'predicted_label': 1}\n"
          ]
        }
      ]
    },
    {
      "cell_type": "code",
      "source": [
        "#Confusion Matrix: Generate a confusion matrix to visualize the distribution of true vs. predicted labels.\n",
        "\n",
        "from sklearn.metrics import confusion_matrix, classification_report\n",
        "import numpy as np\n",
        "\n",
        "true_labels = [pred[\"label\"] for pred in predictions]\n",
        "pred_labels = [pred[\"predicted_label\"] for pred in predictions]\n",
        "\n",
        "print(confusion_matrix(true_labels, pred_labels))\n",
        "print(classification_report(true_labels, pred_labels))\n"
      ],
      "metadata": {
        "colab": {
          "base_uri": "https://localhost:8080/"
        },
        "id": "vB-YXkqUrzOo",
        "outputId": "9bddf7b9-8822-4b0b-992b-11649afb7f75"
      },
      "execution_count": null,
      "outputs": [
        {
          "output_type": "stream",
          "name": "stdout",
          "text": [
            "[[3029  233   67]\n",
            " [ 211 2803  221]\n",
            " [  69  233 2976]]\n",
            "              precision    recall  f1-score   support\n",
            "\n",
            "           0       0.92      0.91      0.91      3329\n",
            "           1       0.86      0.87      0.86      3235\n",
            "           2       0.91      0.91      0.91      3278\n",
            "\n",
            "    accuracy                           0.89      9842\n",
            "   macro avg       0.89      0.89      0.89      9842\n",
            "weighted avg       0.90      0.89      0.90      9842\n",
            "\n"
          ]
        }
      ]
    },
    {
      "cell_type": "code",
      "source": [
        "#Error Analysis: Identify specific examples where the model performs poorly.\n",
        "\n",
        "errors = [pred for pred in predictions if pred[\"label\"] != pred[\"predicted_label\"]]\n",
        "print(\"Errors:\", len(errors))\n",
        "for error in errors[:5]:  # Show 5 examples\n",
        "    print(error)\n"
      ],
      "metadata": {
        "colab": {
          "base_uri": "https://localhost:8080/"
        },
        "id": "DjIrwRKksDHO",
        "outputId": "27b0d8b8-3ad3-4478-d419-4c397e0c6d1e"
      },
      "execution_count": null,
      "outputs": [
        {
          "output_type": "stream",
          "name": "stdout",
          "text": [
            "Errors: 1034\n",
            "{'premise': 'A woman is doing a cartwheel while wearing a bikini in the sand next to the beach.', 'hypothesis': 'A woman is doing a cartwheel and falls on her head.', 'label': 2, 'predicted_scores': [-3.869244337081909, 2.44852876663208, 1.197392463684082], 'predicted_label': 1}\n",
            "{'premise': 'Families waiting in line at an amusement park for their turn to ride.', 'hypothesis': 'People are waiting to see a movie.', 'label': 2, 'predicted_scores': [-3.6207289695739746, 2.5702390670776367, 0.8109203577041626], 'predicted_label': 1}\n",
            "{'premise': 'At an outdoor event in an Asian-themed area, a crowd congregates as one person in a yellow Chinese dragon costume confronts the camera.', 'hypothesis': 'A crowd is dancing', 'label': 1, 'predicted_scores': [-2.5578510761260986, 0.7119212746620178, 1.7960774898529053], 'predicted_label': 2}\n",
            "{'premise': 'At an outdoor event in an Asian-themed area, a crowd congregates as one person in a yellow Chinese dragon costume confronts the camera.', 'hypothesis': 'A crowd is in front of a camera', 'label': 1, 'predicted_scores': [3.0588326454162598, -0.8570375442504883, -3.0511670112609863], 'predicted_label': 0}\n",
            "{'premise': 'A man in a green jersey and rollerskates stumbles as a man in a black jersey appears to collide with him.', 'hypothesis': 'They both fall to the ground.', 'label': 1, 'predicted_scores': [-2.2717244625091553, 0.0838119313120842, 2.0398828983306885], 'predicted_label': 2}\n"
          ]
        }
      ]
    },
    {
      "cell_type": "code",
      "source": [
        "import matplotlib.pyplot as plt\n",
        "\n",
        "scores = [max(pred[\"predicted_scores\"]) for pred in predictions]\n",
        "plt.hist(scores, bins=10, alpha=0.7)\n",
        "plt.xlabel('Confidence Score')\n",
        "plt.ylabel('Frequency')\n",
        "plt.title('Confidence Score Distribution')\n",
        "plt.show()\n"
      ],
      "metadata": {
        "colab": {
          "base_uri": "https://localhost:8080/",
          "height": 472
        },
        "id": "SWMmeCgssLE9",
        "outputId": "9ae06712-9aa2-48b1-e99c-547c94f67796"
      },
      "execution_count": null,
      "outputs": [
        {
          "output_type": "display_data",
          "data": {
            "text/plain": [
              "<Figure size 640x480 with 1 Axes>"
            ],
            "image/png": "[encoded data removed]"
          },
          "metadata": {}
        }
      ]
    },
    {
      "cell_type": "code",
      "source": [
        "import json\n",
        "\n",
        "# Load the metrics\n",
        "with open('./eval_output/eval_metrics.json', 'r') as f:\n",
        "    metrics = json.load(f)\n",
        "\n",
        "# Print metrics\n",
        "for key, value in metrics.items():\n",
        "    print(f\"{key}: {value}\")\n"
      ],
      "metadata": {
        "colab": {
          "base_uri": "https://localhost:8080/"
        },
        "id": "UWMdeIg6sUb7",
        "outputId": "0c244307-f2e8-461f-ec49-48ee628895b5"
      },
      "execution_count": null,
      "outputs": [
        {
          "output_type": "stream",
          "name": "stdout",
          "text": [
            "eval_loss: 0.29635319113731384\n",
            "eval_model_preparation_time: 0.0034\n",
            "eval_accuracy: 0.8949400782585144\n",
            "eval_runtime: 16.5807\n",
            "eval_samples_per_second: 593.58\n",
            "eval_steps_per_second: 74.243\n"
          ]
        }
      ]
    }
  ],
  "metadata": {
    "accelerator": "GPU",
    "colab": {
      "gpuType": "A100",
      "provenance": [],
      "machine_shape": "hm",
      "authorship_tag": "ABX9TyNXEjyqu5hYpSYG16faMey6",
      "include_colab_link": true
    },
    "kernelspec": {
      "display_name": "Python 3",
      "name": "python3"
    },
    "language_info": {
      "name": "python"
    }
  },
  "nbformat": 4,
  "nbformat_minor": 0
}